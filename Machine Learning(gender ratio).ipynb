{
 "cells": [
  {
   "cell_type": "code",
   "execution_count": 116,
   "metadata": {},
   "outputs": [],
   "source": [
    "import pandas as pd\n",
    "import numpy as np\n",
    "import matplotlib.pyplot as plot\n",
    "import math\n",
    "population = pd.read_csv(\"SD1970_population.csv\")"
   ]
  },
  {
   "cell_type": "code",
   "execution_count": null,
   "metadata": {},
   "outputs": [],
   "source": [
    "def extract(x):\n",
    "    x = x.split(\" \")[2]\n",
    "    return math.floor(float(x))"
   ]
  },
  {
   "cell_type": "code",
   "execution_count": 117,
   "metadata": {},
   "outputs": [],
   "source": [
    "\n",
    "Gender_ratio = population[population.columns[0:48]]\n",
    "\n",
    "Gender_ratio[\"Census Tract Name\"] = Gender_ratio[\"Census Tract Name\"].apply(extract)\n",
    "\n",
    "Gender_ratio = Gender_ratio.drop([\"Place Name\"], axis = 1)\n",
    "\n",
    "Gender_ratio = Gender_ratio[Gender_ratio[\"Male persons age under 5 years\"]!=\"...\"]\n",
    "\n",
    "for i in list(Gender_ratio.columns[2:]):\n",
    "    Gender_ratio[i] = Gender_ratio[i].str.replace(r'[^\\w\\s]+', '')\n",
    "    Gender_ratio[i] = Gender_ratio[i].astype(int)\n",
    "\n",
    "Gender_ratio[\"Total men\"] = Gender_ratio.iloc[:,3:25].sum(axis = 1)\n",
    "\n",
    "Gender_ratio = Gender_ratio[[\"Census Tract Name\", \"Block Group\", \"Total persons\", \"Total men\"]]\n",
    "\n",
    "Gender_ratio[\"Men Ratio\"] = Gender_ratio[\"Total men\"]/Gender_ratio[\"Total persons\"]\n",
    "\n",
    "Gender_ratio = Gender_ratio[Gender_ratio[\"Total persons\"]!=0]\n",
    "\n",
    "Gender_ratio = Gender_ratio.drop([\"Total persons\", \"Total men\"], axis = 1)"
   ]
  },
  {
   "cell_type": "code",
   "execution_count": null,
   "metadata": {
    "scrolled": true
   },
   "outputs": [],
   "source": [
    "population.sort_values(\"Men Ratio\", ascending = False)"
   ]
  },
  {
   "cell_type": "code",
   "execution_count": null,
   "metadata": {},
   "outputs": [],
   "source": []
  }
 ],
 "metadata": {
  "kernelspec": {
   "display_name": "Python 3",
   "language": "python",
   "name": "python3"
  },
  "language_info": {
   "codemirror_mode": {
    "name": "ipython",
    "version": 3
   },
   "file_extension": ".py",
   "mimetype": "text/x-python",
   "name": "python",
   "nbconvert_exporter": "python",
   "pygments_lexer": "ipython3",
   "version": "3.7.4"
  }
 },
 "nbformat": 4,
 "nbformat_minor": 2
}
