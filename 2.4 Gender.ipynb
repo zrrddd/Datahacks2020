{
 "cells": [
  {
   "cell_type": "code",
   "execution_count": 227,
   "metadata": {},
   "outputs": [],
   "source": [
    "import pandas as pd\n",
    "import numpy as np\n",
    "import matplotlib.pyplot as plot"
   ]
  },
  {
   "cell_type": "code",
   "execution_count": 228,
   "metadata": {},
   "outputs": [],
   "source": [
    "population = pd.read_csv(\"SD1970_population.csv\")\n",
    "population = population[population[\"Place Name\"] == \"San Diego\"]"
   ]
  },
  {
   "cell_type": "code",
   "execution_count": 229,
   "metadata": {},
   "outputs": [
    {
     "data": {
      "text/plain": [
       "<matplotlib.axes._subplots.AxesSubplot at 0x1175277d0>"
      ]
     },
     "execution_count": 229,
     "metadata": {},
     "output_type": "execute_result"
    },
    {
     "data": {
      "image/png": "[encoded data removed]",
      "text/plain": [
       "<Figure size 432x288 with 1 Axes>"
      ]
     },
     "metadata": {
      "needs_background": "light"
     },
     "output_type": "display_data"
    }
   ],
   "source": [
    "population = population[population.columns[4:26]]\n",
    "population = population.replace('...', \"0\")\n",
    "population[\"Male persons age under 5 years\"] = population[\"Male persons age under 5 years\"].astype(int)\n",
    "for i in list(population.columns[:]):\n",
    "    population[i] = population[i].astype(int)\n",
    "population[\"Male age 0-19\"] = population.iloc[:,0:11].sum(axis = 1)\n",
    "\n",
    "population = population[population.columns[11:]]\n",
    "\n",
    "population[\"Male age 20-34\"] = population.iloc[:,0:4].sum(axis = 1)\n",
    "\n",
    "population = population[population.columns[4:]]\n",
    "\n",
    "population[\"Male age 35-44\"] = population.iloc[:, 0:1].sum(axis = 1)\n",
    "\n",
    "population = population[population.columns[1:]]\n",
    "\n",
    "population[\"Male age 45-54\"] = population.iloc[:, 0:1].sum(axis = 1)\n",
    "\n",
    "population = population[population.columns[1:]]\n",
    "\n",
    "population[\"Male age 55-64\"] = population.iloc[:, 0:3].sum(axis = 1)\n",
    "\n",
    "population = population[population.columns[3:]]\n",
    "\n",
    "population[\"Male age 65 and over\"] = population.iloc[:, 0:2].sum(axis = 1)\n",
    "\n",
    "population = population[population.columns[2:]]\n",
    "summary = population.sum()\n",
    "summary.plot.bar()"
   ]
  },
  {
   "cell_type": "code",
   "execution_count": 230,
   "metadata": {},
   "outputs": [],
   "source": [
    "population = pd.read_csv(\"SD1970_population.csv\")\n",
    "population = population[population[\"Place Name\"] == \"San Diego\"]"
   ]
  },
  {
   "cell_type": "code",
   "execution_count": 231,
   "metadata": {},
   "outputs": [
    {
     "data": {
      "text/plain": [
       "<matplotlib.axes._subplots.AxesSubplot at 0x11bd35350>"
      ]
     },
     "execution_count": 231,
     "metadata": {},
     "output_type": "execute_result"
    },
    {
     "data": {
      "image/png": "[encoded data removed]",
      "text/plain": [
       "<Figure size 432x288 with 1 Axes>"
      ]
     },
     "metadata": {
      "needs_background": "light"
     },
     "output_type": "display_data"
    }
   ],
   "source": [
    "population2 = population2[population2.columns[26:48]]\n",
    "population2 = population2.replace('...', \"0\")\n",
    "population2[\"Female persons age under 5 years\"] = population2[\"Female persons age under 5 years\"].astype(int)\n",
    "for i in list(population2.columns[:]):\n",
    "    population2[i] = population2[i].astype(int)\n",
    "population2[\"Female age 0-19\"] = population2.iloc[:,0:11].sum(axis = 1)\n",
    "\n",
    "population2 = population2[population2.columns[11:]]\n",
    "\n",
    "population2[\"Female age 20-34\"] = population2.iloc[:,0:4].sum(axis = 1)\n",
    "\n",
    "population2 = population2[population2.columns[4:]]\n",
    "\n",
    "population2[\"Female age 35-44\"] = population2.iloc[:, 0:1].sum(axis = 1)\n",
    "\n",
    "population2 = population2[population2.columns[1:]]\n",
    "\n",
    "population2[\"Female age 45-54\"] = population2.iloc[:, 0:1].sum(axis = 1)\n",
    "\n",
    "population2 = population2[population2.columns[1:]]\n",
    "\n",
    "population2[\"Female age 55-64\"] = population2.iloc[:, 0:3].sum(axis = 1)\n",
    "\n",
    "population2 = population2[population2.columns[3:]]\n",
    "\n",
    "population2[\"Female age 65 and over\"] = population2.iloc[:, 0:2].sum(axis = 1)\n",
    "\n",
    "population2 = population2[population2.columns[2:]]\n",
    "summary = population2.sum()\n",
    "summary.plot.bar()"
   ]
  },
  {
   "cell_type": "code",
   "execution_count": null,
   "metadata": {},
   "outputs": [],
   "source": []
  }
 ],
 "metadata": {
  "kernelspec": {
   "display_name": "Python 3",
   "language": "python",
   "name": "python3"
  },
  "language_info": {
   "codemirror_mode": {
    "name": "ipython",
    "version": 3
   },
   "file_extension": ".py",
   "mimetype": "text/x-python",
   "name": "python",
   "nbconvert_exporter": "python",
   "pygments_lexer": "ipython3",
   "version": "3.7.4"
  }
 },
 "nbformat": 4,
 "nbformat_minor": 2
}
