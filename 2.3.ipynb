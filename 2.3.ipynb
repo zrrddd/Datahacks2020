{
 "cells": [
  {
   "cell_type": "code",
   "execution_count": 51,
   "metadata": {},
   "outputs": [],
   "source": [
    "import pandas as pd\n",
    "import numpy as np\n",
    "import math\n",
    "import matplotlib.pyplot as plot\n",
    "housing = pd.read_csv(\"SD1970_housing.csv\")"
   ]
  },
  {
   "cell_type": "code",
   "execution_count": 52,
   "metadata": {},
   "outputs": [],
   "source": [
    "housing = housing[[\"Place Name\", \"Total housing units\", \" Total owner occupied average $ value of housing units \"]]"
   ]
  },
  {
   "cell_type": "code",
   "execution_count": 53,
   "metadata": {},
   "outputs": [],
   "source": [
    "housing = housing[~pd.isnull(housing[\"Place Name\"])]"
   ]
  },
  {
   "cell_type": "code",
   "execution_count": 54,
   "metadata": {},
   "outputs": [],
   "source": [
    "housing = housing.rename(columns={\" Total owner occupied average $ value of housing units \": \"Average price\"})"
   ]
  },
  {
   "cell_type": "code",
   "execution_count": 55,
   "metadata": {},
   "outputs": [
    {
     "data": {
      "text/html": [
       "<div>\n",
       "<style scoped>\n",
       "    .dataframe tbody tr th:only-of-type {\n",
       "        vertical-align: middle;\n",
       "    }\n",
       "\n",
       "    .dataframe tbody tr th {\n",
       "        vertical-align: top;\n",
       "    }\n",
       "\n",
       "    .dataframe thead th {\n",
       "        text-align: right;\n",
       "    }\n",
       "</style>\n",
       "<table border=\"1\" class=\"dataframe\">\n",
       "  <thead>\n",
       "    <tr style=\"text-align: right;\">\n",
       "      <th></th>\n",
       "      <th>Place Name</th>\n",
       "      <th>Total housing units</th>\n",
       "      <th>Average price</th>\n",
       "    </tr>\n",
       "  </thead>\n",
       "  <tbody>\n",
       "    <tr>\n",
       "      <td>0</td>\n",
       "      <td>San Diego</td>\n",
       "      <td>302</td>\n",
       "      <td>$32,298.00</td>\n",
       "    </tr>\n",
       "    <tr>\n",
       "      <td>1</td>\n",
       "      <td>San Diego</td>\n",
       "      <td>234</td>\n",
       "      <td>$29,485.00</td>\n",
       "    </tr>\n",
       "    <tr>\n",
       "      <td>2</td>\n",
       "      <td>San Diego</td>\n",
       "      <td>176</td>\n",
       "      <td>$37,151.00</td>\n",
       "    </tr>\n",
       "    <tr>\n",
       "      <td>3</td>\n",
       "      <td>San Diego</td>\n",
       "      <td>159</td>\n",
       "      <td>$44,712.00</td>\n",
       "    </tr>\n",
       "    <tr>\n",
       "      <td>4</td>\n",
       "      <td>San Diego</td>\n",
       "      <td>209</td>\n",
       "      <td>$33,229.00</td>\n",
       "    </tr>\n",
       "    <tr>\n",
       "      <td>...</td>\n",
       "      <td>...</td>\n",
       "      <td>...</td>\n",
       "      <td>...</td>\n",
       "    </tr>\n",
       "    <tr>\n",
       "      <td>1252</td>\n",
       "      <td>Carlsbad</td>\n",
       "      <td>135</td>\n",
       "      <td>$28,460.00</td>\n",
       "    </tr>\n",
       "    <tr>\n",
       "      <td>1253</td>\n",
       "      <td>San Marcos</td>\n",
       "      <td>0</td>\n",
       "      <td>$-</td>\n",
       "    </tr>\n",
       "    <tr>\n",
       "      <td>1255</td>\n",
       "      <td>Vista</td>\n",
       "      <td>11</td>\n",
       "      <td>$32,222.00</td>\n",
       "    </tr>\n",
       "    <tr>\n",
       "      <td>1258</td>\n",
       "      <td>Vista</td>\n",
       "      <td>35</td>\n",
       "      <td>$28,269.00</td>\n",
       "    </tr>\n",
       "    <tr>\n",
       "      <td>1263</td>\n",
       "      <td>Vista</td>\n",
       "      <td>3</td>\n",
       "      <td>...</td>\n",
       "    </tr>\n",
       "  </tbody>\n",
       "</table>\n",
       "<p>1152 rows × 3 columns</p>\n",
       "</div>"
      ],
      "text/plain": [
       "      Place Name Total housing units Average price\n",
       "0      San Diego                 302   $32,298.00 \n",
       "1      San Diego                 234   $29,485.00 \n",
       "2      San Diego                 176   $37,151.00 \n",
       "3      San Diego                 159   $44,712.00 \n",
       "4      San Diego                 209   $33,229.00 \n",
       "...          ...                 ...           ...\n",
       "1252    Carlsbad                 135   $28,460.00 \n",
       "1253  San Marcos                   0         $-   \n",
       "1255       Vista                  11   $32,222.00 \n",
       "1258       Vista                  35   $28,269.00 \n",
       "1263       Vista                   3          ... \n",
       "\n",
       "[1152 rows x 3 columns]"
      ]
     },
     "execution_count": 55,
     "metadata": {},
     "output_type": "execute_result"
    }
   ],
   "source": [
    "housing"
   ]
  },
  {
   "cell_type": "code",
   "execution_count": 56,
   "metadata": {},
   "outputs": [],
   "source": [
    "housing[\"Average price\"] = housing[\"Average price\"].str.replace(r'[^\\w\\s]+', '')\n",
    "housing[\"Average price\"] = housing[\"Average price\"].str.rstrip()\n",
    "housing = housing[housing[\"Average price\"]!=\"\"]"
   ]
  },
  {
   "cell_type": "code",
   "execution_count": 57,
   "metadata": {},
   "outputs": [
    {
     "name": "stderr",
     "output_type": "stream",
     "text": [
      "/Users/zhaoruidi/opt/anaconda3/lib/python3.7/site-packages/ipykernel_launcher.py:1: SettingWithCopyWarning: \n",
      "A value is trying to be set on a copy of a slice from a DataFrame.\n",
      "Try using .loc[row_indexer,col_indexer] = value instead\n",
      "\n",
      "See the caveats in the documentation: http://pandas.pydata.org/pandas-docs/stable/user_guide/indexing.html#returning-a-view-versus-a-copy\n",
      "  \"\"\"Entry point for launching an IPython kernel.\n",
      "/Users/zhaoruidi/opt/anaconda3/lib/python3.7/site-packages/ipykernel_launcher.py:2: SettingWithCopyWarning: \n",
      "A value is trying to be set on a copy of a slice from a DataFrame.\n",
      "Try using .loc[row_indexer,col_indexer] = value instead\n",
      "\n",
      "See the caveats in the documentation: http://pandas.pydata.org/pandas-docs/stable/user_guide/indexing.html#returning-a-view-versus-a-copy\n",
      "  \n"
     ]
    }
   ],
   "source": [
    "housing[\"Total housing units\"] = housing[\"Total housing units\"].str.replace(r'[^\\w\\s]+', '')\n",
    "housing[\"Total housing units\"] = housing[\"Total housing units\"].str.rstrip()"
   ]
  },
  {
   "cell_type": "code",
   "execution_count": 58,
   "metadata": {
    "scrolled": true
   },
   "outputs": [
    {
     "name": "stderr",
     "output_type": "stream",
     "text": [
      "/Users/zhaoruidi/opt/anaconda3/lib/python3.7/site-packages/ipykernel_launcher.py:1: SettingWithCopyWarning: \n",
      "A value is trying to be set on a copy of a slice from a DataFrame.\n",
      "Try using .loc[row_indexer,col_indexer] = value instead\n",
      "\n",
      "See the caveats in the documentation: http://pandas.pydata.org/pandas-docs/stable/user_guide/indexing.html#returning-a-view-versus-a-copy\n",
      "  \"\"\"Entry point for launching an IPython kernel.\n",
      "/Users/zhaoruidi/opt/anaconda3/lib/python3.7/site-packages/ipykernel_launcher.py:2: SettingWithCopyWarning: \n",
      "A value is trying to be set on a copy of a slice from a DataFrame.\n",
      "Try using .loc[row_indexer,col_indexer] = value instead\n",
      "\n",
      "See the caveats in the documentation: http://pandas.pydata.org/pandas-docs/stable/user_guide/indexing.html#returning-a-view-versus-a-copy\n",
      "  \n"
     ]
    }
   ],
   "source": [
    "housing[\"Average price\"] = housing[\"Average price\"].astype(int)\n",
    "housing[\"Average price\"] = housing[\"Average price\"]/100"
   ]
  },
  {
   "cell_type": "code",
   "execution_count": 59,
   "metadata": {},
   "outputs": [
    {
     "name": "stderr",
     "output_type": "stream",
     "text": [
      "/Users/zhaoruidi/opt/anaconda3/lib/python3.7/site-packages/ipykernel_launcher.py:1: SettingWithCopyWarning: \n",
      "A value is trying to be set on a copy of a slice from a DataFrame.\n",
      "Try using .loc[row_indexer,col_indexer] = value instead\n",
      "\n",
      "See the caveats in the documentation: http://pandas.pydata.org/pandas-docs/stable/user_guide/indexing.html#returning-a-view-versus-a-copy\n",
      "  \"\"\"Entry point for launching an IPython kernel.\n"
     ]
    }
   ],
   "source": [
    "housing[\"Total housing units\"] = housing[\"Total housing units\"].astype(int)"
   ]
  },
  {
   "cell_type": "code",
   "execution_count": 60,
   "metadata": {},
   "outputs": [
    {
     "name": "stderr",
     "output_type": "stream",
     "text": [
      "/Users/zhaoruidi/opt/anaconda3/lib/python3.7/site-packages/ipykernel_launcher.py:1: SettingWithCopyWarning: \n",
      "A value is trying to be set on a copy of a slice from a DataFrame.\n",
      "Try using .loc[row_indexer,col_indexer] = value instead\n",
      "\n",
      "See the caveats in the documentation: http://pandas.pydata.org/pandas-docs/stable/user_guide/indexing.html#returning-a-view-versus-a-copy\n",
      "  \"\"\"Entry point for launching an IPython kernel.\n"
     ]
    }
   ],
   "source": [
    "housing[\"Total price\"] = housing[\"Total housing units\"] * housing[\"Average price\"]"
   ]
  },
  {
   "cell_type": "code",
   "execution_count": 61,
   "metadata": {},
   "outputs": [],
   "source": [
    "housing = housing.groupby([\"Place Name\"]).sum()\n",
    "housing = housing.drop([\"Average price\"], axis = 1)"
   ]
  },
  {
   "cell_type": "code",
   "execution_count": 62,
   "metadata": {},
   "outputs": [],
   "source": [
    "housing[\"Average price\"] = housing[\"Total price\"]/housing[\"Total housing units\"]"
   ]
  },
  {
   "cell_type": "code",
   "execution_count": 63,
   "metadata": {},
   "outputs": [],
   "source": [
    "housing = housing.sort_values(\"Average price\", ascending = False)\n",
    "housing = housing.drop([\"Total housing units\", \"Total price\"], axis = 1)"
   ]
  },
  {
   "cell_type": "code",
   "execution_count": 65,
   "metadata": {},
   "outputs": [
    {
     "data": {
      "text/html": [
       "<div>\n",
       "<style scoped>\n",
       "    .dataframe tbody tr th:only-of-type {\n",
       "        vertical-align: middle;\n",
       "    }\n",
       "\n",
       "    .dataframe tbody tr th {\n",
       "        vertical-align: top;\n",
       "    }\n",
       "\n",
       "    .dataframe thead th {\n",
       "        text-align: right;\n",
       "    }\n",
       "</style>\n",
       "<table border=\"1\" class=\"dataframe\">\n",
       "  <thead>\n",
       "    <tr style=\"text-align: right;\">\n",
       "      <th></th>\n",
       "      <th>Average price</th>\n",
       "    </tr>\n",
       "    <tr>\n",
       "      <th>Place Name</th>\n",
       "      <th></th>\n",
       "    </tr>\n",
       "  </thead>\n",
       "  <tbody>\n",
       "    <tr>\n",
       "      <td>Grossmont Mount Helix</td>\n",
       "      <td>43034.288718</td>\n",
       "    </tr>\n",
       "    <tr>\n",
       "      <td>Del Mar</td>\n",
       "      <td>38003.456522</td>\n",
       "    </tr>\n",
       "    <tr>\n",
       "      <td>Coronado</td>\n",
       "      <td>37452.887819</td>\n",
       "    </tr>\n",
       "    <tr>\n",
       "      <td>Solana Beach</td>\n",
       "      <td>28385.477348</td>\n",
       "    </tr>\n",
       "    <tr>\n",
       "      <td>Carlsbad</td>\n",
       "      <td>25972.937755</td>\n",
       "    </tr>\n",
       "    <tr>\n",
       "      <td>La Mesa</td>\n",
       "      <td>24768.105744</td>\n",
       "    </tr>\n",
       "    <tr>\n",
       "      <td>Cardiff by the Sea</td>\n",
       "      <td>24526.130922</td>\n",
       "    </tr>\n",
       "    <tr>\n",
       "      <td>Encinitas</td>\n",
       "      <td>24040.106867</td>\n",
       "    </tr>\n",
       "    <tr>\n",
       "      <td>San Diego</td>\n",
       "      <td>24029.803670</td>\n",
       "    </tr>\n",
       "    <tr>\n",
       "      <td>Lakeside</td>\n",
       "      <td>23433.555819</td>\n",
       "    </tr>\n",
       "    <tr>\n",
       "      <td>Vista</td>\n",
       "      <td>22895.847272</td>\n",
       "    </tr>\n",
       "    <tr>\n",
       "      <td>Oceanside</td>\n",
       "      <td>22681.846655</td>\n",
       "    </tr>\n",
       "    <tr>\n",
       "      <td>El Cajon</td>\n",
       "      <td>22518.547502</td>\n",
       "    </tr>\n",
       "    <tr>\n",
       "      <td>Spring Valley</td>\n",
       "      <td>22285.298584</td>\n",
       "    </tr>\n",
       "    <tr>\n",
       "      <td>Chula Vista</td>\n",
       "      <td>22248.422236</td>\n",
       "    </tr>\n",
       "    <tr>\n",
       "      <td>Lemon Grove</td>\n",
       "      <td>21133.077112</td>\n",
       "    </tr>\n",
       "    <tr>\n",
       "      <td>Santee</td>\n",
       "      <td>20831.253429</td>\n",
       "    </tr>\n",
       "    <tr>\n",
       "      <td>Otay Castle Park</td>\n",
       "      <td>19818.944423</td>\n",
       "    </tr>\n",
       "    <tr>\n",
       "      <td>Imperial Beach</td>\n",
       "      <td>18963.264647</td>\n",
       "    </tr>\n",
       "    <tr>\n",
       "      <td>National City</td>\n",
       "      <td>17495.692498</td>\n",
       "    </tr>\n",
       "  </tbody>\n",
       "</table>\n",
       "</div>"
      ],
      "text/plain": [
       "                       Average price\n",
       "Place Name                          \n",
       "Grossmont Mount Helix   43034.288718\n",
       "Del Mar                 38003.456522\n",
       "Coronado                37452.887819\n",
       "Solana Beach            28385.477348\n",
       "Carlsbad                25972.937755\n",
       "La Mesa                 24768.105744\n",
       "Cardiff by the Sea      24526.130922\n",
       "Encinitas               24040.106867\n",
       "San Diego               24029.803670\n",
       "Lakeside                23433.555819\n",
       "Vista                   22895.847272\n",
       "Oceanside               22681.846655\n",
       "El Cajon                22518.547502\n",
       "Spring Valley           22285.298584\n",
       "Chula Vista             22248.422236\n",
       "Lemon Grove             21133.077112\n",
       "Santee                  20831.253429\n",
       "Otay Castle Park        19818.944423\n",
       "Imperial Beach          18963.264647\n",
       "National City           17495.692498"
      ]
     },
     "execution_count": 65,
     "metadata": {},
     "output_type": "execute_result"
    }
   ],
   "source": [
    "housing"
   ]
  },
  {
   "cell_type": "code",
   "execution_count": 64,
   "metadata": {},
   "outputs": [
    {
     "data": {
      "text/plain": [
       "<matplotlib.axes._subplots.AxesSubplot at 0x124874ad0>"
      ]
     },
     "execution_count": 64,
     "metadata": {},
     "output_type": "execute_result"
    },
    {
     "data": {
      "image/png": "[encoded data removed]",
      "text/plain": [
       "<Figure size 432x288 with 1 Axes>"
      ]
     },
     "metadata": {
      "needs_background": "light"
     },
     "output_type": "display_data"
    }
   ],
   "source": [
    "housing.plot.bar()"
   ]
  },
  {
   "cell_type": "code",
   "execution_count": null,
   "metadata": {},
   "outputs": [],
   "source": []
  }
 ],
 "metadata": {
  "kernelspec": {
   "display_name": "Python 3",
   "language": "python",
   "name": "python3"
  },
  "language_info": {
   "codemirror_mode": {
    "name": "ipython",
    "version": 3
   },
   "file_extension": ".py",
   "mimetype": "text/x-python",
   "name": "python",
   "nbconvert_exporter": "python",
   "pygments_lexer": "ipython3",
   "version": "3.7.4"
  }
 },
 "nbformat": 4,
 "nbformat_minor": 2
}
