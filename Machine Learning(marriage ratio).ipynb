{
 "cells": [
  {
   "cell_type": "code",
   "execution_count": 65,
   "metadata": {},
   "outputs": [],
   "source": [
    "import pandas as pd\n",
    "import numpy as np\n",
    "import matplotlib.pyplot as plt\n",
    "import math\n",
    "population = pd.read_csv(\"SD1970_population.csv\")"
   ]
  },
  {
   "cell_type": "code",
   "execution_count": 66,
   "metadata": {},
   "outputs": [],
   "source": [
    "def extract(x):\n",
    "    x = x.split(\" \")[2]\n",
    "    return math.floor(float(x))"
   ]
  },
  {
   "cell_type": "code",
   "execution_count": 67,
   "metadata": {},
   "outputs": [],
   "source": [
    "temp1 = population[[\"Census Tract Name\", \"Block Group\", \"Total persons\"]]\n",
    "\n",
    "temp2 = population[population.columns[85:95]]\n",
    "\n",
    "Marriage_ratio = temp1.join(temp2)\n",
    "\n",
    "Marriage_ratio[\"Census Tract Name\"] = Marriage_ratio[\"Census Tract Name\"].apply(extract)\n",
    "\n",
    "Marriage_ratio = Marriage_ratio[Marriage_ratio[\"Total persons\"]!=\"0\"]\n",
    "Marriage_ratio = Marriage_ratio.replace(\"...\", \"0\")\n",
    "\n",
    "for i in list(Marriage_ratio.columns[2:]):\n",
    "    Marriage_ratio[i] = Marriage_ratio[i].str.replace(r'[^\\w\\s]+', '')\n",
    "\n",
    "Marriage_ratio[\"Male persons now married (excludes separated)\"] = Marriage_ratio[\"Male persons now married (excludes separated)\"].astype(int)\n",
    "\n",
    "for i in list(Marriage_ratio.columns[2:]):\n",
    "    Marriage_ratio[i] = Marriage_ratio[i].astype(int)\n",
    "\n",
    "Marriage_ratio[\"Married Men\"] = Marriage_ratio.iloc[:, 3:4].sum(axis = 1)\n",
    "\n",
    "Marriage_ratio[\"Other Men\"] = Marriage_ratio.iloc[:, 4:8].sum(axis = 1)\n",
    "\n",
    "Marriage_ratio[\"Married Women\"] = Marriage_ratio.iloc[:, 8:9].sum(axis = 1)\n",
    "\n",
    "Marriage_ratio[\"Other Women\"] = Marriage_ratio.iloc[:, 9:13].sum(axis = 1)\n",
    "\n",
    "Marriage_ratio = Marriage_ratio[[\"Census Tract Name\", \"Block Group\", \"Married Men\", \"Other Men\", \"Married Women\",\"Other Women\"]]"
   ]
  },
  {
   "cell_type": "code",
   "execution_count": 68,
   "metadata": {},
   "outputs": [],
   "source": [
    "Marriage_ratio[\"Married Ratio\"] = (Marriage_ratio[\"Married Men\"] + Marriage_ratio[\"Married Women\"])/(Marriage_ratio[\"Married Men\"] + Marriage_ratio[\"Married Women\"]+ Marriage_ratio[\"Other Men\"]+Marriage_ratio[\"Other Women\"])"
   ]
  },
  {
   "cell_type": "code",
   "execution_count": 69,
   "metadata": {},
   "outputs": [],
   "source": [
    "Marriage_ratio[\"Married\"] = Marriage_ratio[\"Married Men\"] + Marriage_ratio[\"Married Women\"]\n",
    "Marriage_ratio[\"Other\"] = Marriage_ratio[\"Other Men\"] + Marriage_ratio[\"Other Women\"]"
   ]
  },
  {
   "cell_type": "code",
   "execution_count": 70,
   "metadata": {},
   "outputs": [
    {
     "data": {
      "text/plain": [
       "517116"
      ]
     },
     "execution_count": 70,
     "metadata": {},
     "output_type": "execute_result"
    }
   ],
   "source": [
    "Married = Marriage_ratio[\"Married\"].sum()\n",
    "Other = Marriage_ratio[\"Other\"].sum()\n",
    "Married"
   ]
  },
  {
   "cell_type": "code",
   "execution_count": 71,
   "metadata": {},
   "outputs": [],
   "source": [
    "graph = pd.DataFrame({'lab':[\"Married\", \"Other\"],'val':[Married, Other]})"
   ]
  },
  {
   "cell_type": "code",
   "execution_count": 72,
   "metadata": {},
   "outputs": [
    {
     "data": {
      "text/html": [
       "<div>\n",
       "<style scoped>\n",
       "    .dataframe tbody tr th:only-of-type {\n",
       "        vertical-align: middle;\n",
       "    }\n",
       "\n",
       "    .dataframe tbody tr th {\n",
       "        vertical-align: top;\n",
       "    }\n",
       "\n",
       "    .dataframe thead th {\n",
       "        text-align: right;\n",
       "    }\n",
       "</style>\n",
       "<table border=\"1\" class=\"dataframe\">\n",
       "  <thead>\n",
       "    <tr style=\"text-align: right;\">\n",
       "      <th></th>\n",
       "      <th>lab</th>\n",
       "      <th>val</th>\n",
       "    </tr>\n",
       "  </thead>\n",
       "  <tbody>\n",
       "    <tr>\n",
       "      <td>0</td>\n",
       "      <td>Married</td>\n",
       "      <td>517116</td>\n",
       "    </tr>\n",
       "    <tr>\n",
       "      <td>1</td>\n",
       "      <td>Other</td>\n",
       "      <td>307862</td>\n",
       "    </tr>\n",
       "  </tbody>\n",
       "</table>\n",
       "</div>"
      ],
      "text/plain": [
       "       lab     val\n",
       "0  Married  517116\n",
       "1    Other  307862"
      ]
     },
     "execution_count": 72,
     "metadata": {},
     "output_type": "execute_result"
    }
   ],
   "source": [
    "graph"
   ]
  },
  {
   "cell_type": "code",
   "execution_count": 74,
   "metadata": {},
   "outputs": [
    {
     "data": {
      "text/plain": [
       "<matplotlib.axes._subplots.AxesSubplot at 0x11daee1d0>"
      ]
     },
     "execution_count": 74,
     "metadata": {},
     "output_type": "execute_result"
    },
    {
     "data": {
      "image/png": "[encoded data removed]",
      "text/plain": [
       "<Figure size 432x288 with 1 Axes>"
      ]
     },
     "metadata": {
      "needs_background": "light"
     },
     "output_type": "display_data"
    }
   ],
   "source": [
    "graph.plot.bar(x = 'lab')"
   ]
  },
  {
   "cell_type": "code",
   "execution_count": 45,
   "metadata": {},
   "outputs": [],
   "source": [
    "Marriage_ratio = Marriage_ratio[[\"Census Tract Name\", \"Block Group\", \"Married Ratio\"]]\n",
    "\n",
    "Marriage_ratio = Marriage_ratio[Marriage_ratio[\"Married Ratio\"] >= 0]"
   ]
  },
  {
   "cell_type": "code",
   "execution_count": null,
   "metadata": {},
   "outputs": [],
   "source": []
  }
 ],
 "metadata": {
  "kernelspec": {
   "display_name": "Python 3",
   "language": "python",
   "name": "python3"
  },
  "language_info": {
   "codemirror_mode": {
    "name": "ipython",
    "version": 3
   },
   "file_extension": ".py",
   "mimetype": "text/x-python",
   "name": "python",
   "nbconvert_exporter": "python",
   "pygments_lexer": "ipython3",
   "version": "3.7.4"
  }
 },
 "nbformat": 4,
 "nbformat_minor": 2
}
