{
 "cells": [
  {
   "cell_type": "code",
   "execution_count": 16,
   "metadata": {},
   "outputs": [],
   "source": [
    "import pandas as pd\n",
    "import numpy as np\n",
    "import math\n",
    "from sklearn import linear_model\n",
    "import matplotlib.pyplot as plot"
   ]
  },
  {
   "cell_type": "code",
   "execution_count": 17,
   "metadata": {},
   "outputs": [],
   "source": [
    "def extract(x):\n",
    "    x = x.split(\" \")[2]\n",
    "    return math.floor(float(x))"
   ]
  },
  {
   "cell_type": "code",
   "execution_count": 18,
   "metadata": {},
   "outputs": [],
   "source": [
    "population = pd.read_csv(\"SD1970_population.csv\")"
   ]
  },
  {
   "cell_type": "code",
   "execution_count": 19,
   "metadata": {},
   "outputs": [],
   "source": [
    "#Filter by San Diego\n",
    "population = population[population[\"Place Name\"] == \"San Diego\"]"
   ]
  },
  {
   "cell_type": "code",
   "execution_count": 20,
   "metadata": {},
   "outputs": [
    {
     "data": {
      "text/html": [
       "<div>\n",
       "<style scoped>\n",
       "    .dataframe tbody tr th:only-of-type {\n",
       "        vertical-align: middle;\n",
       "    }\n",
       "\n",
       "    .dataframe tbody tr th {\n",
       "        vertical-align: top;\n",
       "    }\n",
       "\n",
       "    .dataframe thead th {\n",
       "        text-align: right;\n",
       "    }\n",
       "</style>\n",
       "<table border=\"1\" class=\"dataframe\">\n",
       "  <thead>\n",
       "    <tr style=\"text-align: right;\">\n",
       "      <th></th>\n",
       "      <th>Census Tract Name</th>\n",
       "      <th>Block Group</th>\n",
       "      <th>White persons</th>\n",
       "      <th>Black persons</th>\n",
       "      <th>Indian persons</th>\n",
       "      <th>Other specified race persons</th>\n",
       "      <th>Reported \"other race\" persons</th>\n",
       "    </tr>\n",
       "  </thead>\n",
       "  <tbody>\n",
       "    <tr>\n",
       "      <td>0</td>\n",
       "      <td>Census Tract 1</td>\n",
       "      <td>1</td>\n",
       "      <td>883</td>\n",
       "      <td>0</td>\n",
       "      <td>0</td>\n",
       "      <td>18</td>\n",
       "      <td>0</td>\n",
       "    </tr>\n",
       "    <tr>\n",
       "      <td>1</td>\n",
       "      <td>Census Tract 1</td>\n",
       "      <td>2</td>\n",
       "      <td>673</td>\n",
       "      <td>2</td>\n",
       "      <td>0</td>\n",
       "      <td>8</td>\n",
       "      <td>0</td>\n",
       "    </tr>\n",
       "    <tr>\n",
       "      <td>2</td>\n",
       "      <td>Census Tract 1</td>\n",
       "      <td>3</td>\n",
       "      <td>529</td>\n",
       "      <td>0</td>\n",
       "      <td>1</td>\n",
       "      <td>0</td>\n",
       "      <td>2</td>\n",
       "    </tr>\n",
       "    <tr>\n",
       "      <td>3</td>\n",
       "      <td>Census Tract 1</td>\n",
       "      <td>4</td>\n",
       "      <td>415</td>\n",
       "      <td>0</td>\n",
       "      <td>4</td>\n",
       "      <td>2</td>\n",
       "      <td>0</td>\n",
       "    </tr>\n",
       "    <tr>\n",
       "      <td>4</td>\n",
       "      <td>Census Tract 1</td>\n",
       "      <td>5</td>\n",
       "      <td>483</td>\n",
       "      <td>3</td>\n",
       "      <td>0</td>\n",
       "      <td>1</td>\n",
       "      <td>2</td>\n",
       "    </tr>\n",
       "    <tr>\n",
       "      <td>...</td>\n",
       "      <td>...</td>\n",
       "      <td>...</td>\n",
       "      <td>...</td>\n",
       "      <td>...</td>\n",
       "      <td>...</td>\n",
       "      <td>...</td>\n",
       "      <td>...</td>\n",
       "    </tr>\n",
       "    <tr>\n",
       "      <td>918</td>\n",
       "      <td>Census Tract 141</td>\n",
       "      <td>1</td>\n",
       "      <td>0</td>\n",
       "      <td>0</td>\n",
       "      <td>0</td>\n",
       "      <td>0</td>\n",
       "      <td>0</td>\n",
       "    </tr>\n",
       "    <tr>\n",
       "      <td>921</td>\n",
       "      <td>Census Tract 141</td>\n",
       "      <td>3</td>\n",
       "      <td>689</td>\n",
       "      <td>7</td>\n",
       "      <td>0</td>\n",
       "      <td>0</td>\n",
       "      <td>1</td>\n",
       "    </tr>\n",
       "    <tr>\n",
       "      <td>923</td>\n",
       "      <td>Census Tract 141</td>\n",
       "      <td>4</td>\n",
       "      <td>570</td>\n",
       "      <td>195</td>\n",
       "      <td>3</td>\n",
       "      <td>24</td>\n",
       "      <td>4</td>\n",
       "    </tr>\n",
       "    <tr>\n",
       "      <td>928</td>\n",
       "      <td>Census Tract 142</td>\n",
       "      <td>4</td>\n",
       "      <td>62</td>\n",
       "      <td>0</td>\n",
       "      <td>0</td>\n",
       "      <td>9</td>\n",
       "      <td>0</td>\n",
       "    </tr>\n",
       "    <tr>\n",
       "      <td>938</td>\n",
       "      <td>Census Tract 145</td>\n",
       "      <td>2</td>\n",
       "      <td>65</td>\n",
       "      <td>0</td>\n",
       "      <td>0</td>\n",
       "      <td>0</td>\n",
       "      <td>0</td>\n",
       "    </tr>\n",
       "  </tbody>\n",
       "</table>\n",
       "<p>652 rows × 7 columns</p>\n",
       "</div>"
      ],
      "text/plain": [
       "      Census Tract Name  Block Group White persons Black persons  \\\n",
       "0    Census Tract 1                1           883             0   \n",
       "1    Census Tract 1                2           673             2   \n",
       "2    Census Tract 1                3           529             0   \n",
       "3    Census Tract 1                4           415             0   \n",
       "4    Census Tract 1                5           483             3   \n",
       "..                  ...          ...           ...           ...   \n",
       "918  Census Tract 141              1             0             0   \n",
       "921  Census Tract 141              3           689             7   \n",
       "923  Census Tract 141              4           570           195   \n",
       "928  Census Tract 142              4            62             0   \n",
       "938  Census Tract 145              2            65             0   \n",
       "\n",
       "    Indian persons Other specified race persons Reported \"other race\" persons  \n",
       "0                0                           18                             0  \n",
       "1                0                            8                             0  \n",
       "2                1                            0                             2  \n",
       "3                4                            2                             0  \n",
       "4                0                            1                             2  \n",
       "..             ...                          ...                           ...  \n",
       "918              0                            0                             0  \n",
       "921              0                            0                             1  \n",
       "923              3                           24                             4  \n",
       "928              0                            9                             0  \n",
       "938              0                            0                             0  \n",
       "\n",
       "[652 rows x 7 columns]"
      ]
     },
     "execution_count": 20,
     "metadata": {},
     "output_type": "execute_result"
    }
   ],
   "source": [
    "#Select (white, black, indian, other specified race, report)\n",
    "df = population[population.columns[0:2]]\n",
    "population = population[population.columns[80:85]]\n",
    "population = population.replace('...', \"0\")\n",
    "population1 = df.join(population)\n",
    "population1"
   ]
  },
  {
   "cell_type": "code",
   "execution_count": 21,
   "metadata": {},
   "outputs": [],
   "source": [
    "population[\"White persons\"] = population[\"White persons\"].str.replace(r'[^\\w\\s]+', '')\n",
    "population[\"White persons\"] = population[\"White persons\"].astype(int)\n",
    "\n",
    "population[\"Black persons\"] = population[\"Black persons\"].str.replace(r'[^\\w\\s]+', '')\n",
    "population[\"Black persons\"] = population[\"Black persons\"].astype(int)\n",
    "\n",
    "population[\"Indian persons\"] = population[\"Indian persons\"].str.replace(r'[^\\w\\s]+', '')\n",
    "population[\"Indian persons\"] = population[\"Indian persons\"].astype(int)\n",
    "\n",
    "population[\"Other specified race persons\"] = population[\"Other specified race persons\"].str.replace(r'[^\\w\\s]+', '')\n",
    "population[\"Other specified race persons\"] = population[\"Other specified race persons\"].astype(int)\n",
    "\n",
    "population['Reported \"other race\" persons'] = population['Reported \"other race\" persons'].str.replace(r'[^\\w\\s]+', '')\n",
    "population['Reported \"other race\" persons'] = population['Reported \"other race\" persons'].astype(int)\n"
   ]
  },
  {
   "cell_type": "code",
   "execution_count": 22,
   "metadata": {},
   "outputs": [
    {
     "data": {
      "text/plain": [
       "<matplotlib.axes._subplots.AxesSubplot at 0x1a19ccca10>"
      ]
     },
     "execution_count": 22,
     "metadata": {},
     "output_type": "execute_result"
    },
    {
     "data": {
      "image/png": "[encoded data removed]",
      "text/plain": [
       "<Figure size 432x288 with 1 Axes>"
      ]
     },
     "metadata": {
      "needs_background": "light"
     },
     "output_type": "display_data"
    }
   ],
   "source": [
    "#Sum the population\n",
    "summary = population.sum() / population.sum().sum()\n",
    "# #Plot the distribution by race\n",
    "summary.plot.bar()"
   ]
  },
  {
   "cell_type": "code",
   "execution_count": null,
   "metadata": {},
   "outputs": [],
   "source": []
  },
  {
   "cell_type": "code",
   "execution_count": null,
   "metadata": {},
   "outputs": [],
   "source": []
  },
  {
   "cell_type": "code",
   "execution_count": null,
   "metadata": {},
   "outputs": [],
   "source": []
  }
 ],
 "metadata": {
  "kernelspec": {
   "display_name": "Python 3",
   "language": "python",
   "name": "python3"
  },
  "language_info": {
   "codemirror_mode": {
    "name": "ipython",
    "version": 3
   },
   "file_extension": ".py",
   "mimetype": "text/x-python",
   "name": "python",
   "nbconvert_exporter": "python",
   "pygments_lexer": "ipython3",
   "version": "3.7.4"
  }
 },
 "nbformat": 4,
 "nbformat_minor": 2
}
